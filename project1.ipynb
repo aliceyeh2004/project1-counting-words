{
 "cells": [
  {
   "cell_type": "markdown",
   "metadata": {},
   "source": [
    "# Project 1: Counting words in college subreddits"
   ]
  },
  {
   "cell_type": "markdown",
   "metadata": {},
   "source": [
    "Due 9/16. Reminder that you are allowed to use any amount of AI assistance or outside resources with citation"
   ]
  },
  {
   "cell_type": "markdown",
   "metadata": {},
   "source": [
    "## Part 1: word counting and bag of words"
   ]
  },
  {
   "cell_type": "code",
   "execution_count": 2,
   "metadata": {},
   "outputs": [],
   "source": [
    "#install spacy in the current conda environment\n",
    "#!pip3 install spacy\n"
   ]
  },
  {
   "cell_type": "code",
   "execution_count": 3,
   "metadata": {},
   "outputs": [],
   "source": [
    "#download a small language model to help with cleaning tasks\n",
    "#!python3 -m spacy download en_core_web_sm"
   ]
  },
  {
   "cell_type": "code",
   "execution_count": 4,
   "metadata": {},
   "outputs": [],
   "source": [
    "#import required libraries\n",
    "import pandas as pd\n",
    "from sklearn.feature_extraction.text import CountVectorizer\n",
    "import spacy\n",
    "language_model = spacy.load(\"en_core_web_sm\")\n",
    "import matplotlib.pyplot as plt\n",
    "\n",
    "import numpy as np"
   ]
  },
  {
   "cell_type": "markdown",
   "metadata": {},
   "source": [
    "### Problem 1 and example: common words in the Michigan subreddit"
   ]
  },
  {
   "cell_type": "code",
   "execution_count": 5,
   "metadata": {},
   "outputs": [],
   "source": [
    "#read the data from a csv file in the folder\n",
    "mich=pd.read_csv(\"umich.csv\")"
   ]
  },
  {
   "cell_type": "code",
   "execution_count": 6,
   "metadata": {},
   "outputs": [
    {
     "data": {
      "text/html": [
       "<div>\n",
       "<style scoped>\n",
       "    .dataframe tbody tr th:only-of-type {\n",
       "        vertical-align: middle;\n",
       "    }\n",
       "\n",
       "    .dataframe tbody tr th {\n",
       "        vertical-align: top;\n",
       "    }\n",
       "\n",
       "    .dataframe thead th {\n",
       "        text-align: right;\n",
       "    }\n",
       "</style>\n",
       "<table border=\"1\" class=\"dataframe\">\n",
       "  <thead>\n",
       "    <tr style=\"text-align: right;\">\n",
       "      <th></th>\n",
       "      <th>Unnamed: 0</th>\n",
       "      <th>date</th>\n",
       "      <th>post_votes</th>\n",
       "      <th>text</th>\n",
       "      <th>user</th>\n",
       "      <th>com_votes</th>\n",
       "    </tr>\n",
       "  </thead>\n",
       "  <tbody>\n",
       "    <tr>\n",
       "      <th>0</th>\n",
       "      <td>0</td>\n",
       "      <td>2024-09-04 15:33:20</td>\n",
       "      <td>2</td>\n",
       "      <td>Zingermans has a nice reuben, pretty pricey bu...</td>\n",
       "      <td>Suspicious-Bad703</td>\n",
       "      <td>2</td>\n",
       "    </tr>\n",
       "    <tr>\n",
       "      <th>1</th>\n",
       "      <td>1</td>\n",
       "      <td>2024-09-04 15:33:20</td>\n",
       "      <td>2</td>\n",
       "      <td>I really love Tomokun!</td>\n",
       "      <td>webstbre000</td>\n",
       "      <td>2</td>\n",
       "    </tr>\n",
       "    <tr>\n",
       "      <th>2</th>\n",
       "      <td>2</td>\n",
       "      <td>2024-09-04 15:33:20</td>\n",
       "      <td>2</td>\n",
       "      <td>The Seoul is pretty good I especially like the...</td>\n",
       "      <td>iaxlmao</td>\n",
       "      <td>1</td>\n",
       "    </tr>\n",
       "    <tr>\n",
       "      <th>3</th>\n",
       "      <td>3</td>\n",
       "      <td>2024-09-04 15:33:20</td>\n",
       "      <td>2</td>\n",
       "      <td>A lot of it depends on what type of food and w...</td>\n",
       "      <td>I-696</td>\n",
       "      <td>1</td>\n",
       "    </tr>\n",
       "    <tr>\n",
       "      <th>4</th>\n",
       "      <td>4</td>\n",
       "      <td>2024-09-04 14:32:17</td>\n",
       "      <td>1</td>\n",
       "      <td>You can book completely enclosed private study...</td>\n",
       "      <td>sneep_</td>\n",
       "      <td>2</td>\n",
       "    </tr>\n",
       "    <tr>\n",
       "      <th>...</th>\n",
       "      <td>...</td>\n",
       "      <td>...</td>\n",
       "      <td>...</td>\n",
       "      <td>...</td>\n",
       "      <td>...</td>\n",
       "      <td>...</td>\n",
       "    </tr>\n",
       "    <tr>\n",
       "      <th>8334</th>\n",
       "      <td>8334</td>\n",
       "      <td>2024-07-02 12:35:36</td>\n",
       "      <td>9</td>\n",
       "      <td>It isn’t a student org</td>\n",
       "      <td>Vibes_And_Smiles</td>\n",
       "      <td>1</td>\n",
       "    </tr>\n",
       "    <tr>\n",
       "      <th>8335</th>\n",
       "      <td>8335</td>\n",
       "      <td>2024-07-02 11:07:10</td>\n",
       "      <td>0</td>\n",
       "      <td>Life   \\nMatter   \\nLife's matter</td>\n",
       "      <td>tctu</td>\n",
       "      <td>8</td>\n",
       "    </tr>\n",
       "    <tr>\n",
       "      <th>8336</th>\n",
       "      <td>8336</td>\n",
       "      <td>2024-07-02 11:07:10</td>\n",
       "      <td>0</td>\n",
       "      <td>google</td>\n",
       "      <td>SUPERazkari</td>\n",
       "      <td>4</td>\n",
       "    </tr>\n",
       "    <tr>\n",
       "      <th>8337</th>\n",
       "      <td>8337</td>\n",
       "      <td>2024-07-02 11:07:10</td>\n",
       "      <td>0</td>\n",
       "      <td>That’s a hard question to answer for a set of ...</td>\n",
       "      <td>Own-Resident-3837</td>\n",
       "      <td>-1</td>\n",
       "    </tr>\n",
       "    <tr>\n",
       "      <th>8338</th>\n",
       "      <td>8338</td>\n",
       "      <td>2024-07-02 11:07:10</td>\n",
       "      <td>0</td>\n",
       "      <td>Not either one but instead why do people pick ...</td>\n",
       "      <td>No-Chemistry-6677</td>\n",
       "      <td>-4</td>\n",
       "    </tr>\n",
       "  </tbody>\n",
       "</table>\n",
       "<p>8339 rows × 6 columns</p>\n",
       "</div>"
      ],
      "text/plain": [
       "      Unnamed: 0                 date  post_votes  \\\n",
       "0              0  2024-09-04 15:33:20           2   \n",
       "1              1  2024-09-04 15:33:20           2   \n",
       "2              2  2024-09-04 15:33:20           2   \n",
       "3              3  2024-09-04 15:33:20           2   \n",
       "4              4  2024-09-04 14:32:17           1   \n",
       "...          ...                  ...         ...   \n",
       "8334        8334  2024-07-02 12:35:36           9   \n",
       "8335        8335  2024-07-02 11:07:10           0   \n",
       "8336        8336  2024-07-02 11:07:10           0   \n",
       "8337        8337  2024-07-02 11:07:10           0   \n",
       "8338        8338  2024-07-02 11:07:10           0   \n",
       "\n",
       "                                                   text               user  \\\n",
       "0     Zingermans has a nice reuben, pretty pricey bu...  Suspicious-Bad703   \n",
       "1                                I really love Tomokun!        webstbre000   \n",
       "2     The Seoul is pretty good I especially like the...            iaxlmao   \n",
       "3     A lot of it depends on what type of food and w...              I-696   \n",
       "4     You can book completely enclosed private study...             sneep_   \n",
       "...                                                 ...                ...   \n",
       "8334                             It isn’t a student org   Vibes_And_Smiles   \n",
       "8335                  Life   \\nMatter   \\nLife's matter               tctu   \n",
       "8336                                             google        SUPERazkari   \n",
       "8337  That’s a hard question to answer for a set of ...  Own-Resident-3837   \n",
       "8338  Not either one but instead why do people pick ...  No-Chemistry-6677   \n",
       "\n",
       "      com_votes  \n",
       "0             2  \n",
       "1             2  \n",
       "2             1  \n",
       "3             1  \n",
       "4             2  \n",
       "...         ...  \n",
       "8334          1  \n",
       "8335          8  \n",
       "8336          4  \n",
       "8337         -1  \n",
       "8338         -4  \n",
       "\n",
       "[8339 rows x 6 columns]"
      ]
     },
     "execution_count": 6,
     "metadata": {},
     "output_type": "execute_result"
    }
   ],
   "source": [
    "#jupyter will print a pretty representation of most python objects if you just put the name\n",
    "#we can see that the full text of each reddit comment is provided in the \"text\" column\n",
    "mich"
   ]
  },
  {
   "cell_type": "code",
   "execution_count": 7,
   "metadata": {},
   "outputs": [],
   "source": [
    "#this is a function that does some light cleaning, by removing newline characters, converting to lowercase, and removing punctuation\n",
    "\n",
    "def clean(text):\n",
    "    #remove newline and space characters\n",
    "    text = ' '.join(text.split())\n",
    "    #convert the text to lowercase\n",
    "    text = text.lower()\n",
    "    #remove punctuation\n",
    "    text = ''.join([char for char in text if char.isalpha() or char.isspace()])\n",
    "    return text"
   ]
  },
  {
   "cell_type": "code",
   "execution_count": 8,
   "metadata": {},
   "outputs": [],
   "source": [
    "#pandas allows us to quickly apply this cleaning function to all rows in a column\n",
    "mich['cleaned_text'] = mich['text'].apply(clean)"
   ]
  },
  {
   "cell_type": "code",
   "execution_count": 9,
   "metadata": {},
   "outputs": [
    {
     "data": {
      "text/plain": [
       "'zingermans has a nice reuben pretty pricey but the sammies are pretty big'"
      ]
     },
     "execution_count": 9,
     "metadata": {},
     "output_type": "execute_result"
    }
   ],
   "source": [
    "#we can see the first comment after cleaning vs before\n",
    "mich[\"cleaned_text\"][0]"
   ]
  },
  {
   "cell_type": "code",
   "execution_count": 10,
   "metadata": {},
   "outputs": [
    {
     "data": {
      "text/plain": [
       "'Zingermans has a nice reuben, pretty pricey but the sammies are pretty big'"
      ]
     },
     "execution_count": 10,
     "metadata": {},
     "output_type": "execute_result"
    }
   ],
   "source": [
    "mich[\"text\"][0]"
   ]
  },
  {
   "cell_type": "code",
   "execution_count": 11,
   "metadata": {},
   "outputs": [],
   "source": [
    "#create a bag of words representation with count vectorizer\n",
    "vectorizer = CountVectorizer()\n",
    "bag_of_words = vectorizer.fit_transform(mich['cleaned_text'])"
   ]
  },
  {
   "cell_type": "code",
   "execution_count": 12,
   "metadata": {},
   "outputs": [
    {
     "data": {
      "text/plain": [
       "<8339x15289 sparse matrix of type '<class 'numpy.int64'>'\n",
       "\twith 221217 stored elements in Compressed Sparse Row format>"
      ]
     },
     "execution_count": 12,
     "metadata": {},
     "output_type": "execute_result"
    }
   ],
   "source": [
    "#this is a sparse matrix, which is a more efficient way to store a matrix with many zeros\n",
    "#the matrix has 8339 rows (one for each comment) and 15289 columns (one for each unique word in the dataset)\n",
    "bag_of_words"
   ]
  },
  {
   "cell_type": "code",
   "execution_count": 13,
   "metadata": {},
   "outputs": [
    {
     "data": {
      "text/html": [
       "<div>\n",
       "<style scoped>\n",
       "    .dataframe tbody tr th:only-of-type {\n",
       "        vertical-align: middle;\n",
       "    }\n",
       "\n",
       "    .dataframe tbody tr th {\n",
       "        vertical-align: top;\n",
       "    }\n",
       "\n",
       "    .dataframe thead th {\n",
       "        text-align: right;\n",
       "    }\n",
       "</style>\n",
       "<table border=\"1\" class=\"dataframe\">\n",
       "  <thead>\n",
       "    <tr style=\"text-align: right;\">\n",
       "      <th></th>\n",
       "      <th>aa</th>\n",
       "      <th>aadl</th>\n",
       "      <th>aapd</th>\n",
       "      <th>aata</th>\n",
       "      <th>ab</th>\n",
       "      <th>abab</th>\n",
       "      <th>abandon</th>\n",
       "      <th>abandoned</th>\n",
       "      <th>abbreviation</th>\n",
       "      <th>abbreviations</th>\n",
       "      <th>...</th>\n",
       "      <th>zoned</th>\n",
       "      <th>zones</th>\n",
       "      <th>zoning</th>\n",
       "      <th>zoo</th>\n",
       "      <th>zoom</th>\n",
       "      <th>zoomer</th>\n",
       "      <th>zoomers</th>\n",
       "      <th>zuckerberg</th>\n",
       "      <th>𝓲𝓷𝓼𝓮𝓬𝓾𝓻𝓮</th>\n",
       "      <th>𝘢𝘩𝘦𝘮</th>\n",
       "    </tr>\n",
       "  </thead>\n",
       "  <tbody>\n",
       "    <tr>\n",
       "      <th>0</th>\n",
       "      <td>0</td>\n",
       "      <td>0</td>\n",
       "      <td>0</td>\n",
       "      <td>0</td>\n",
       "      <td>0</td>\n",
       "      <td>0</td>\n",
       "      <td>0</td>\n",
       "      <td>0</td>\n",
       "      <td>0</td>\n",
       "      <td>0</td>\n",
       "      <td>...</td>\n",
       "      <td>0</td>\n",
       "      <td>0</td>\n",
       "      <td>0</td>\n",
       "      <td>0</td>\n",
       "      <td>0</td>\n",
       "      <td>0</td>\n",
       "      <td>0</td>\n",
       "      <td>0</td>\n",
       "      <td>0</td>\n",
       "      <td>0</td>\n",
       "    </tr>\n",
       "    <tr>\n",
       "      <th>1</th>\n",
       "      <td>0</td>\n",
       "      <td>0</td>\n",
       "      <td>0</td>\n",
       "      <td>0</td>\n",
       "      <td>0</td>\n",
       "      <td>0</td>\n",
       "      <td>0</td>\n",
       "      <td>0</td>\n",
       "      <td>0</td>\n",
       "      <td>0</td>\n",
       "      <td>...</td>\n",
       "      <td>0</td>\n",
       "      <td>0</td>\n",
       "      <td>0</td>\n",
       "      <td>0</td>\n",
       "      <td>0</td>\n",
       "      <td>0</td>\n",
       "      <td>0</td>\n",
       "      <td>0</td>\n",
       "      <td>0</td>\n",
       "      <td>0</td>\n",
       "    </tr>\n",
       "    <tr>\n",
       "      <th>2</th>\n",
       "      <td>0</td>\n",
       "      <td>0</td>\n",
       "      <td>0</td>\n",
       "      <td>0</td>\n",
       "      <td>0</td>\n",
       "      <td>0</td>\n",
       "      <td>0</td>\n",
       "      <td>0</td>\n",
       "      <td>0</td>\n",
       "      <td>0</td>\n",
       "      <td>...</td>\n",
       "      <td>0</td>\n",
       "      <td>0</td>\n",
       "      <td>0</td>\n",
       "      <td>0</td>\n",
       "      <td>0</td>\n",
       "      <td>0</td>\n",
       "      <td>0</td>\n",
       "      <td>0</td>\n",
       "      <td>0</td>\n",
       "      <td>0</td>\n",
       "    </tr>\n",
       "    <tr>\n",
       "      <th>3</th>\n",
       "      <td>0</td>\n",
       "      <td>0</td>\n",
       "      <td>0</td>\n",
       "      <td>0</td>\n",
       "      <td>0</td>\n",
       "      <td>0</td>\n",
       "      <td>0</td>\n",
       "      <td>0</td>\n",
       "      <td>0</td>\n",
       "      <td>0</td>\n",
       "      <td>...</td>\n",
       "      <td>0</td>\n",
       "      <td>0</td>\n",
       "      <td>0</td>\n",
       "      <td>0</td>\n",
       "      <td>0</td>\n",
       "      <td>0</td>\n",
       "      <td>0</td>\n",
       "      <td>0</td>\n",
       "      <td>0</td>\n",
       "      <td>0</td>\n",
       "    </tr>\n",
       "    <tr>\n",
       "      <th>4</th>\n",
       "      <td>0</td>\n",
       "      <td>0</td>\n",
       "      <td>0</td>\n",
       "      <td>0</td>\n",
       "      <td>0</td>\n",
       "      <td>0</td>\n",
       "      <td>0</td>\n",
       "      <td>0</td>\n",
       "      <td>0</td>\n",
       "      <td>0</td>\n",
       "      <td>...</td>\n",
       "      <td>0</td>\n",
       "      <td>0</td>\n",
       "      <td>0</td>\n",
       "      <td>0</td>\n",
       "      <td>0</td>\n",
       "      <td>0</td>\n",
       "      <td>0</td>\n",
       "      <td>0</td>\n",
       "      <td>0</td>\n",
       "      <td>0</td>\n",
       "    </tr>\n",
       "    <tr>\n",
       "      <th>...</th>\n",
       "      <td>...</td>\n",
       "      <td>...</td>\n",
       "      <td>...</td>\n",
       "      <td>...</td>\n",
       "      <td>...</td>\n",
       "      <td>...</td>\n",
       "      <td>...</td>\n",
       "      <td>...</td>\n",
       "      <td>...</td>\n",
       "      <td>...</td>\n",
       "      <td>...</td>\n",
       "      <td>...</td>\n",
       "      <td>...</td>\n",
       "      <td>...</td>\n",
       "      <td>...</td>\n",
       "      <td>...</td>\n",
       "      <td>...</td>\n",
       "      <td>...</td>\n",
       "      <td>...</td>\n",
       "      <td>...</td>\n",
       "      <td>...</td>\n",
       "    </tr>\n",
       "    <tr>\n",
       "      <th>8334</th>\n",
       "      <td>0</td>\n",
       "      <td>0</td>\n",
       "      <td>0</td>\n",
       "      <td>0</td>\n",
       "      <td>0</td>\n",
       "      <td>0</td>\n",
       "      <td>0</td>\n",
       "      <td>0</td>\n",
       "      <td>0</td>\n",
       "      <td>0</td>\n",
       "      <td>...</td>\n",
       "      <td>0</td>\n",
       "      <td>0</td>\n",
       "      <td>0</td>\n",
       "      <td>0</td>\n",
       "      <td>0</td>\n",
       "      <td>0</td>\n",
       "      <td>0</td>\n",
       "      <td>0</td>\n",
       "      <td>0</td>\n",
       "      <td>0</td>\n",
       "    </tr>\n",
       "    <tr>\n",
       "      <th>8335</th>\n",
       "      <td>0</td>\n",
       "      <td>0</td>\n",
       "      <td>0</td>\n",
       "      <td>0</td>\n",
       "      <td>0</td>\n",
       "      <td>0</td>\n",
       "      <td>0</td>\n",
       "      <td>0</td>\n",
       "      <td>0</td>\n",
       "      <td>0</td>\n",
       "      <td>...</td>\n",
       "      <td>0</td>\n",
       "      <td>0</td>\n",
       "      <td>0</td>\n",
       "      <td>0</td>\n",
       "      <td>0</td>\n",
       "      <td>0</td>\n",
       "      <td>0</td>\n",
       "      <td>0</td>\n",
       "      <td>0</td>\n",
       "      <td>0</td>\n",
       "    </tr>\n",
       "    <tr>\n",
       "      <th>8336</th>\n",
       "      <td>0</td>\n",
       "      <td>0</td>\n",
       "      <td>0</td>\n",
       "      <td>0</td>\n",
       "      <td>0</td>\n",
       "      <td>0</td>\n",
       "      <td>0</td>\n",
       "      <td>0</td>\n",
       "      <td>0</td>\n",
       "      <td>0</td>\n",
       "      <td>...</td>\n",
       "      <td>0</td>\n",
       "      <td>0</td>\n",
       "      <td>0</td>\n",
       "      <td>0</td>\n",
       "      <td>0</td>\n",
       "      <td>0</td>\n",
       "      <td>0</td>\n",
       "      <td>0</td>\n",
       "      <td>0</td>\n",
       "      <td>0</td>\n",
       "    </tr>\n",
       "    <tr>\n",
       "      <th>8337</th>\n",
       "      <td>0</td>\n",
       "      <td>0</td>\n",
       "      <td>0</td>\n",
       "      <td>0</td>\n",
       "      <td>0</td>\n",
       "      <td>0</td>\n",
       "      <td>0</td>\n",
       "      <td>0</td>\n",
       "      <td>0</td>\n",
       "      <td>0</td>\n",
       "      <td>...</td>\n",
       "      <td>0</td>\n",
       "      <td>0</td>\n",
       "      <td>0</td>\n",
       "      <td>0</td>\n",
       "      <td>0</td>\n",
       "      <td>0</td>\n",
       "      <td>0</td>\n",
       "      <td>0</td>\n",
       "      <td>0</td>\n",
       "      <td>0</td>\n",
       "    </tr>\n",
       "    <tr>\n",
       "      <th>8338</th>\n",
       "      <td>0</td>\n",
       "      <td>0</td>\n",
       "      <td>0</td>\n",
       "      <td>0</td>\n",
       "      <td>0</td>\n",
       "      <td>0</td>\n",
       "      <td>0</td>\n",
       "      <td>0</td>\n",
       "      <td>0</td>\n",
       "      <td>0</td>\n",
       "      <td>...</td>\n",
       "      <td>0</td>\n",
       "      <td>0</td>\n",
       "      <td>0</td>\n",
       "      <td>0</td>\n",
       "      <td>0</td>\n",
       "      <td>0</td>\n",
       "      <td>0</td>\n",
       "      <td>0</td>\n",
       "      <td>0</td>\n",
       "      <td>0</td>\n",
       "    </tr>\n",
       "  </tbody>\n",
       "</table>\n",
       "<p>8339 rows × 15289 columns</p>\n",
       "</div>"
      ],
      "text/plain": [
       "      aa  aadl  aapd  aata  ab  abab  abandon  abandoned  abbreviation  \\\n",
       "0      0     0     0     0   0     0        0          0             0   \n",
       "1      0     0     0     0   0     0        0          0             0   \n",
       "2      0     0     0     0   0     0        0          0             0   \n",
       "3      0     0     0     0   0     0        0          0             0   \n",
       "4      0     0     0     0   0     0        0          0             0   \n",
       "...   ..   ...   ...   ...  ..   ...      ...        ...           ...   \n",
       "8334   0     0     0     0   0     0        0          0             0   \n",
       "8335   0     0     0     0   0     0        0          0             0   \n",
       "8336   0     0     0     0   0     0        0          0             0   \n",
       "8337   0     0     0     0   0     0        0          0             0   \n",
       "8338   0     0     0     0   0     0        0          0             0   \n",
       "\n",
       "      abbreviations  ...  zoned  zones  zoning  zoo  zoom  zoomer  zoomers  \\\n",
       "0                 0  ...      0      0       0    0     0       0        0   \n",
       "1                 0  ...      0      0       0    0     0       0        0   \n",
       "2                 0  ...      0      0       0    0     0       0        0   \n",
       "3                 0  ...      0      0       0    0     0       0        0   \n",
       "4                 0  ...      0      0       0    0     0       0        0   \n",
       "...             ...  ...    ...    ...     ...  ...   ...     ...      ...   \n",
       "8334              0  ...      0      0       0    0     0       0        0   \n",
       "8335              0  ...      0      0       0    0     0       0        0   \n",
       "8336              0  ...      0      0       0    0     0       0        0   \n",
       "8337              0  ...      0      0       0    0     0       0        0   \n",
       "8338              0  ...      0      0       0    0     0       0        0   \n",
       "\n",
       "      zuckerberg  𝓲𝓷𝓼𝓮𝓬𝓾𝓻𝓮  𝘢𝘩𝘦𝘮  \n",
       "0              0         0     0  \n",
       "1              0         0     0  \n",
       "2              0         0     0  \n",
       "3              0         0     0  \n",
       "4              0         0     0  \n",
       "...          ...       ...   ...  \n",
       "8334           0         0     0  \n",
       "8335           0         0     0  \n",
       "8336           0         0     0  \n",
       "8337           0         0     0  \n",
       "8338           0         0     0  \n",
       "\n",
       "[8339 rows x 15289 columns]"
      ]
     },
     "execution_count": 13,
     "metadata": {},
     "output_type": "execute_result"
    }
   ],
   "source": [
    "#create a dataframe from the sparse matrix\n",
    "#this is a more human-readable way to view the data\n",
    "bow_df = pd.DataFrame(bag_of_words.toarray(), columns=vectorizer.get_feature_names_out())\n",
    "bow_df"
   ]
  },
  {
   "cell_type": "code",
   "execution_count": 14,
   "metadata": {},
   "outputs": [
    {
     "data": {
      "text/plain": [
       "the            11306\n",
       "to              8480\n",
       "and             6921\n",
       "you             6256\n",
       "of              5028\n",
       "               ...  \n",
       "journals           1\n",
       "journeywhen        1\n",
       "jpg                1\n",
       "js                 1\n",
       "𝘢𝘩𝘦𝘮               1\n",
       "Length: 15289, dtype: int64"
      ]
     },
     "execution_count": 14,
     "metadata": {},
     "output_type": "execute_result"
    }
   ],
   "source": [
    "#dataframes have a convenient method for summing the values in each column\n",
    "#this will give us the number of times each word appears in the dataset\n",
    "word_counts = bow_df.sum()\n",
    "#we can sort the values to see the most common words\n",
    "word_counts = word_counts.sort_values(ascending=False)\n",
    "\n",
    "#notice that the top words are not very informative, as they are common words that appear in many contexts\n",
    "#and bottom words include a lot of typos and other noise\n",
    "word_counts"
   ]
  },
  {
   "cell_type": "code",
   "execution_count": 15,
   "metadata": {},
   "outputs": [
    {
     "data": {
      "image/png": "[encoded data removed]",
      "text/plain": [
       "<Figure size 2000x1000 with 1 Axes>"
      ]
     },
     "metadata": {},
     "output_type": "display_data"
    }
   ],
   "source": [
    "#we can plot the most common words\n",
    "#we will only plot the top 10 words for readability\n",
    "word_counts = word_counts.head(10)\n",
    "plt.figure(figsize=(20,10))\n",
    "plt.bar(word_counts.index, word_counts.values)\n",
    "plt.xticks(rotation=45)\n",
    "plt.show()"
   ]
  },
  {
   "cell_type": "markdown",
   "metadata": {},
   "source": [
    "#### Question 1: what do you notice about the words in this plot? Is this useful for studying the community?"
   ]
  },
  {
   "cell_type": "markdown",
   "metadata": {},
   "source": [
    "Answer here: No. The reason is that the most common use of these grammatical vocabularies will likely follow the same pattern regardless of the post content. Thus these words do not reveal the content of these reddits. "
   ]
  },
  {
   "cell_type": "markdown",
   "metadata": {},
   "source": [
    "#### Lemmatization and stopword removal"
   ]
  },
  {
   "cell_type": "code",
   "execution_count": 16,
   "metadata": {},
   "outputs": [],
   "source": [
    "#lemmatization function from the openclassrooms reading\n",
    "def lemmatize(text):\n",
    "\n",
    "   doc = language_model(text)\n",
    "\n",
    "   tokens = [token.lemma_ for token in doc if not (token.is_stop or token.is_punct)]\n",
    "\n",
    "   return ' '.join(tokens)"
   ]
  },
  {
   "cell_type": "code",
   "execution_count": 17,
   "metadata": {},
   "outputs": [],
   "source": [
    "#we can further process the text by removing stopwords and lemmatizing\n",
    "mich['lemmatized_text'] = mich['cleaned_text'].apply(lemmatize)"
   ]
  },
  {
   "cell_type": "code",
   "execution_count": 18,
   "metadata": {},
   "outputs": [],
   "source": [
    "#count vectorizer also has parameters min_df and max_df that can be used to filter out words that are too rare or too common\n",
    "#min_df=3 means that a word must appear in at least 3 documents to be included, this will remove typos and rare words\n",
    "#max_df=0.3 means that a word must appear in at most 30% of documents to be included, this will remove corpus-specific stopwords\n",
    "\n",
    "#we are also able to include n-grams in the count vectorizer\n",
    "#n-grams are sequences of n words that appear together in the text\n",
    "#the n-gram_range parameter specifies the minimum and maximum n-gram size to include (so in this case, we are including both unigrams and bigrams)\n",
    "\n",
    "vectorizer = CountVectorizer(min_df=3, max_df=0.3, ngram_range=(1,2))\n",
    "bag_of_words = vectorizer.fit_transform(mich['lemmatized_text'])"
   ]
  },
  {
   "cell_type": "code",
   "execution_count": 19,
   "metadata": {},
   "outputs": [
    {
     "data": {
      "text/plain": [
       "<8339x8608 sparse matrix of type '<class 'numpy.int64'>'\n",
       "\twith 126768 stored elements in Compressed Sparse Row format>"
      ]
     },
     "execution_count": 19,
     "metadata": {},
     "output_type": "execute_result"
    }
   ],
   "source": [
    "#we can see that we filtered out 11000 common words and typos\n",
    "bag_of_words"
   ]
  },
  {
   "cell_type": "code",
   "execution_count": 20,
   "metadata": {},
   "outputs": [
    {
     "data": {
      "text/plain": [
       "not              2863\n",
       "student          1183\n",
       "like             1183\n",
       "people           1124\n",
       "class             988\n",
       "                 ... \n",
       "club campus         3\n",
       "open not            3\n",
       "open source         3\n",
       "club activity       3\n",
       "luck search         3\n",
       "Length: 8608, dtype: int64"
      ]
     },
     "execution_count": 20,
     "metadata": {},
     "output_type": "execute_result"
    }
   ],
   "source": [
    "#we can repeat the previous code to create a dataframe and count the words\n",
    "bow_df = pd.DataFrame(bag_of_words.toarray(), columns=vectorizer.get_feature_names_out())\n",
    "word_counts = bow_df.sum()\n",
    "word_counts = word_counts.sort_values(ascending=False)\n",
    "word_counts"
   ]
  },
  {
   "cell_type": "code",
   "execution_count": 21,
   "metadata": {},
   "outputs": [],
   "source": [
    "#we can convert this to a percentage instead of an absolute count by dividing by the total number of words\n",
    "word_counts = word_counts / word_counts.sum()"
   ]
  },
  {
   "cell_type": "code",
   "execution_count": 22,
   "metadata": {},
   "outputs": [
    {
     "data": {
      "image/png": "[encoded data removed]",
      "text/plain": [
       "<Figure size 2000x1000 with 1 Axes>"
      ]
     },
     "metadata": {},
     "output_type": "display_data"
    }
   ],
   "source": [
    "#we can plot the most common words\n",
    "#we will only plot the top 10 words for readability\n",
    "plot_list = word_counts.head(10)\n",
    "plt.figure(figsize=(20,10))\n",
    "plt.bar(plot_list.index, plot_list.values)\n",
    "plt.xticks(rotation=45)\n",
    "plt.show()"
   ]
  },
  {
   "cell_type": "code",
   "execution_count": 23,
   "metadata": {},
   "outputs": [
    {
     "data": {
      "text/plain": [
       "4.1400153180566765e-05"
      ]
     },
     "execution_count": 23,
     "metadata": {},
     "output_type": "execute_result"
    }
   ],
   "source": [
    "#pandas allows us to access specific words in the series using the index\n",
    "word_counts[\"student loan\"]"
   ]
  },
  {
   "cell_type": "code",
   "execution_count": 24,
   "metadata": {},
   "outputs": [
    {
     "data": {
      "text/plain": [
       "history             0.000352\n",
       "business            0.000600\n",
       "computer science    0.000035\n",
       "cs                  0.001228\n",
       "computer            0.000262\n",
       "dtype: float64"
      ]
     },
     "execution_count": 24,
     "metadata": {},
     "output_type": "execute_result"
    }
   ],
   "source": [
    "#we can also use a list of words to compare and plot specific words\n",
    "plot_list=word_counts[[\"history\", \"business\", \"computer science\", \"cs\", \"computer\"]]\n",
    "plot_list"
   ]
  },
  {
   "cell_type": "code",
   "execution_count": 25,
   "metadata": {},
   "outputs": [
    {
     "data": {
      "image/png": "[encoded data removed]",
      "text/plain": [
       "<Figure size 2000x1000 with 1 Axes>"
      ]
     },
     "metadata": {},
     "output_type": "display_data"
    }
   ],
   "source": [
    "plt.figure(figsize=(20,10))\n",
    "plt.bar(plot_list.index, plot_list.values)\n",
    "plt.xticks(rotation=45)\n",
    "plt.show()"
   ]
  },
  {
   "cell_type": "markdown",
   "metadata": {},
   "source": [
    "#### Question 2:"
   ]
  },
  {
   "cell_type": "code",
   "execution_count": 26,
   "metadata": {},
   "outputs": [],
   "source": [
    "#TODO: pick 5 words that you find interesting or are curious about, and plot a bar plot of their frequency in this dataset "
   ]
  },
  {
   "cell_type": "code",
   "execution_count": 27,
   "metadata": {},
   "outputs": [
    {
     "data": {
      "image/png": "[encoded data removed]",
      "text/plain": [
       "<Figure size 2000x1000 with 1 Axes>"
      ]
     },
     "metadata": {},
     "output_type": "display_data"
    }
   ],
   "source": [
    "plot_list=word_counts[[\"research\", \"psychology\", \"personality\", \"cognitive\", \"professor\"]]\n",
    "plt.figure(figsize=(20,10))\n",
    "plt.bar(plot_list.index, plot_list.values)\n",
    "plt.xticks(rotation=45)\n",
    "plt.show()"
   ]
  },
  {
   "cell_type": "markdown",
   "metadata": {},
   "source": [
    "### Problem 2: repeat this process with the Illinois subreddit data (in this directory as \"uiuc.csv\"). You should not have to change too much in the previous code besides the dataframe path and name. Your notebook should include the two bar graphs including and excluding stopwords. Use the same 5 words and compare their relative frequency between the two subreddits. Discuss any interesting differences you notice in a short markdown cell. "
   ]
  },
  {
   "cell_type": "code",
   "execution_count": 28,
   "metadata": {},
   "outputs": [],
   "source": [
    "uiuc=pd.read_csv(\"uiuc.csv\")"
   ]
  },
  {
   "cell_type": "code",
   "execution_count": 29,
   "metadata": {},
   "outputs": [],
   "source": [
    "uiuc['cleaned_text'] = uiuc['text'].apply(clean)\n",
    "bag_of_words = vectorizer.fit_transform(uiuc['cleaned_text'])\n",
    "bow_df = pd.DataFrame(bag_of_words.toarray(), columns=vectorizer.get_feature_names_out())\n",
    "word_counts = bow_df.sum()\n",
    "word_counts = word_counts.sort_values(ascending=False)\n",
    "word_counts = word_counts / word_counts.sum()"
   ]
  },
  {
   "cell_type": "code",
   "execution_count": 30,
   "metadata": {},
   "outputs": [
    {
     "data": {
      "image/png": "[encoded data removed]",
      "text/plain": [
       "<Figure size 2000x1000 with 1 Axes>"
      ]
     },
     "metadata": {},
     "output_type": "display_data"
    }
   ],
   "source": [
    "plot_list=word_counts[[\"history\", \"business\", \"computer science\", \"cs\", \"computer\"]]\n",
    "plt.figure(figsize=(20,10))\n",
    "plt.bar(plot_list.index, plot_list.values)\n",
    "plt.xticks(rotation=45)\n",
    "plt.show()"
   ]
  },
  {
   "cell_type": "markdown",
   "metadata": {},
   "source": [
    "The relative ratio amongst these five words are similar in both the UMich dataset and our dataset, with \"cs\" being the highest and \"computer science\" being the lowest. An interesting finding is that the percentage of these words are much lower in the U of I reddits. It would be interesting to investigate what other majoris more popular for U of I students.  "
   ]
  },
  {
   "cell_type": "markdown",
   "metadata": {},
   "source": [
    "### Problem 3: using the provided combined dataframe, train a logistic regression model using the sklearn Logistic Regression implementation. https://scikit-learn.org/stable/modules/generated/sklearn.linear_model.LogisticRegression.html. Create a bag of words table from the combined data, and use that along with the \"label\" column to train the classifier. Please try this out and be prepared with issues or questions next Monday. We will be discussing in class"
   ]
  },
  {
   "cell_type": "code",
   "execution_count": 31,
   "metadata": {},
   "outputs": [
    {
     "data": {
      "text/html": [
       "<div>\n",
       "<style scoped>\n",
       "    .dataframe tbody tr th:only-of-type {\n",
       "        vertical-align: middle;\n",
       "    }\n",
       "\n",
       "    .dataframe tbody tr th {\n",
       "        vertical-align: top;\n",
       "    }\n",
       "\n",
       "    .dataframe thead th {\n",
       "        text-align: right;\n",
       "    }\n",
       "</style>\n",
       "<table border=\"1\" class=\"dataframe\">\n",
       "  <thead>\n",
       "    <tr style=\"text-align: right;\">\n",
       "      <th></th>\n",
       "      <th>Unnamed: 0</th>\n",
       "      <th>date</th>\n",
       "      <th>post_votes</th>\n",
       "      <th>text</th>\n",
       "      <th>user</th>\n",
       "      <th>com_votes</th>\n",
       "      <th>label</th>\n",
       "    </tr>\n",
       "  </thead>\n",
       "  <tbody>\n",
       "    <tr>\n",
       "      <th>0</th>\n",
       "      <td>0</td>\n",
       "      <td>2024-09-04 14:43:40</td>\n",
       "      <td>2</td>\n",
       "      <td>Have the same professor! And in lecture he did...</td>\n",
       "      <td>zhen3441</td>\n",
       "      <td>2</td>\n",
       "      <td>1</td>\n",
       "    </tr>\n",
       "    <tr>\n",
       "      <th>1</th>\n",
       "      <td>1</td>\n",
       "      <td>2024-09-04 14:43:40</td>\n",
       "      <td>2</td>\n",
       "      <td>Do you find it helpful to still go to the lect...</td>\n",
       "      <td>Kai2747</td>\n",
       "      <td>1</td>\n",
       "      <td>1</td>\n",
       "    </tr>\n",
       "    <tr>\n",
       "      <th>2</th>\n",
       "      <td>2</td>\n",
       "      <td>2024-09-04 12:52:08</td>\n",
       "      <td>3</td>\n",
       "      <td>Have you tried emailing University Housing to ...</td>\n",
       "      <td>TurboBKTastic</td>\n",
       "      <td>2</td>\n",
       "      <td>1</td>\n",
       "    </tr>\n",
       "    <tr>\n",
       "      <th>3</th>\n",
       "      <td>3</td>\n",
       "      <td>2024-09-04 12:52:08</td>\n",
       "      <td>3</td>\n",
       "      <td>Purchasing Illini Cash should get you added to...</td>\n",
       "      <td>HoosierCAB</td>\n",
       "      <td>2</td>\n",
       "      <td>1</td>\n",
       "    </tr>\n",
       "    <tr>\n",
       "      <th>4</th>\n",
       "      <td>4</td>\n",
       "      <td>2024-09-04 12:52:08</td>\n",
       "      <td>3</td>\n",
       "      <td>Just did, thanks for the suggestion! It hadn't...</td>\n",
       "      <td>Sector-Both</td>\n",
       "      <td>1</td>\n",
       "      <td>1</td>\n",
       "    </tr>\n",
       "    <tr>\n",
       "      <th>...</th>\n",
       "      <td>...</td>\n",
       "      <td>...</td>\n",
       "      <td>...</td>\n",
       "      <td>...</td>\n",
       "      <td>...</td>\n",
       "      <td>...</td>\n",
       "      <td>...</td>\n",
       "    </tr>\n",
       "    <tr>\n",
       "      <th>332</th>\n",
       "      <td>332</td>\n",
       "      <td>2024-09-03 16:32:49</td>\n",
       "      <td>20</td>\n",
       "      <td>Yeah that’s the gist of it (coming from an eng...</td>\n",
       "      <td>KeepCalmAndSnorlax</td>\n",
       "      <td>7</td>\n",
       "      <td>0</td>\n",
       "    </tr>\n",
       "    <tr>\n",
       "      <th>2280</th>\n",
       "      <td>2280</td>\n",
       "      <td>2024-08-26 21:42:03</td>\n",
       "      <td>417</td>\n",
       "      <td>You can literally see the data on SAT correlat...</td>\n",
       "      <td>slatibartifast3</td>\n",
       "      <td>1</td>\n",
       "      <td>0</td>\n",
       "    </tr>\n",
       "    <tr>\n",
       "      <th>3635</th>\n",
       "      <td>3635</td>\n",
       "      <td>2024-08-17 05:47:52</td>\n",
       "      <td>40</td>\n",
       "      <td>Just noting that political engagement only com...</td>\n",
       "      <td>BadgersHoneyPot</td>\n",
       "      <td>20</td>\n",
       "      <td>0</td>\n",
       "    </tr>\n",
       "    <tr>\n",
       "      <th>2018</th>\n",
       "      <td>2018</td>\n",
       "      <td>2024-08-27 13:36:27</td>\n",
       "      <td>129</td>\n",
       "      <td>I knew, but I chose to take it literally 😅</td>\n",
       "      <td>CovfefeBoss</td>\n",
       "      <td>5</td>\n",
       "      <td>0</td>\n",
       "    </tr>\n",
       "    <tr>\n",
       "      <th>7010</th>\n",
       "      <td>7010</td>\n",
       "      <td>2024-07-13 06:52:03</td>\n",
       "      <td>27</td>\n",
       "      <td>We all read too quickly at times friend</td>\n",
       "      <td>DontThrowAwayPies</td>\n",
       "      <td>7</td>\n",
       "      <td>0</td>\n",
       "    </tr>\n",
       "  </tbody>\n",
       "</table>\n",
       "<p>9450 rows × 7 columns</p>\n",
       "</div>"
      ],
      "text/plain": [
       "      Unnamed: 0                 date  post_votes  \\\n",
       "0              0  2024-09-04 14:43:40           2   \n",
       "1              1  2024-09-04 14:43:40           2   \n",
       "2              2  2024-09-04 12:52:08           3   \n",
       "3              3  2024-09-04 12:52:08           3   \n",
       "4              4  2024-09-04 12:52:08           3   \n",
       "...          ...                  ...         ...   \n",
       "332          332  2024-09-03 16:32:49          20   \n",
       "2280        2280  2024-08-26 21:42:03         417   \n",
       "3635        3635  2024-08-17 05:47:52          40   \n",
       "2018        2018  2024-08-27 13:36:27         129   \n",
       "7010        7010  2024-07-13 06:52:03          27   \n",
       "\n",
       "                                                   text                user  \\\n",
       "0     Have the same professor! And in lecture he did...            zhen3441   \n",
       "1     Do you find it helpful to still go to the lect...             Kai2747   \n",
       "2     Have you tried emailing University Housing to ...       TurboBKTastic   \n",
       "3     Purchasing Illini Cash should get you added to...          HoosierCAB   \n",
       "4     Just did, thanks for the suggestion! It hadn't...         Sector-Both   \n",
       "...                                                 ...                 ...   \n",
       "332   Yeah that’s the gist of it (coming from an eng...  KeepCalmAndSnorlax   \n",
       "2280  You can literally see the data on SAT correlat...     slatibartifast3   \n",
       "3635  Just noting that political engagement only com...     BadgersHoneyPot   \n",
       "2018         I knew, but I chose to take it literally 😅         CovfefeBoss   \n",
       "7010            We all read too quickly at times friend   DontThrowAwayPies   \n",
       "\n",
       "      com_votes  label  \n",
       "0             2      1  \n",
       "1             1      1  \n",
       "2             2      1  \n",
       "3             2      1  \n",
       "4             1      1  \n",
       "...         ...    ...  \n",
       "332           7      0  \n",
       "2280          1      0  \n",
       "3635         20      0  \n",
       "2018          5      0  \n",
       "7010          7      0  \n",
       "\n",
       "[9450 rows x 7 columns]"
      ]
     },
     "execution_count": 31,
     "metadata": {},
     "output_type": "execute_result"
    }
   ],
   "source": [
    "uiuc=pd.read_csv(\"uiuc.csv\")\n",
    "mich=pd.read_csv(\"umich.csv\")\n",
    "\n",
    "#sample so we have even number of samples from each dataset\n",
    "mich=mich.sample(n=4725)\n",
    "\n",
    "#assign labels based on origin subreddit of comment\n",
    "uiuc['label']=1\n",
    "mich['label']=0\n",
    "\n",
    "#you will be working with the data csv for the rest of the question\n",
    "data=pd.concat([uiuc,mich])\n",
    "data"
   ]
  },
  {
   "cell_type": "code",
   "execution_count": 32,
   "metadata": {},
   "outputs": [],
   "source": [
    "#clean and lemmatize the data csv\n",
    "data['cleaned_text'] = data['text'].apply(clean)\n",
    "##data['lemmatized_text'] = data['cleaned_text'].apply(lemmatize)"
   ]
  },
  {
   "cell_type": "code",
   "execution_count": 33,
   "metadata": {},
   "outputs": [],
   "source": [
    "#create a bag of words representation with count vectorizer\n",
    "vectorizer = CountVectorizer(min_df=3, max_df=0.3)\n",
    "X = vectorizer.fit_transform(data['cleaned_text'])\n",
    "y = data['label']"
   ]
  },
  {
   "cell_type": "code",
   "execution_count": 34,
   "metadata": {},
   "outputs": [],
   "source": [
    "from sklearn.model_selection import train_test_split\n",
    "from sklearn.linear_model import LogisticRegression\n",
    "from sklearn.metrics import accuracy_score\n",
    "\n",
    "##X_train, X_test, y_train, y_test = train_test_split(X, y, test_size=0.2, random_state=42)\n",
    "\n",
    "model = LogisticRegression(max_iter=1000)\n",
    "model.fit(X, y)\n",
    "\n",
    "y_pred = model.predict(X)"
   ]
  },
  {
   "cell_type": "code",
   "execution_count": 35,
   "metadata": {},
   "outputs": [
    {
     "data": {
      "text/plain": [
       "0.8841269841269841"
      ]
     },
     "execution_count": 35,
     "metadata": {},
     "output_type": "execute_result"
    }
   ],
   "source": [
    "#report the accuracy of the model\n",
    "accuracy_score(y, y_pred)"
   ]
  },
  {
   "cell_type": "markdown",
   "metadata": {},
   "source": [
    "#### Part 2: hold out part of the dataset using sklearn train_test_split (https://scikit-learn.org/stable/modules/generated/sklearn.model_selection.train_test_split.html). Pass in your previously generated bag of words as X and the label column as y. Use only the X_train and y_train for training and hold out the X_test and y_test to score the model on unseen data."
   ]
  },
  {
   "cell_type": "code",
   "execution_count": 36,
   "metadata": {},
   "outputs": [
    {
     "data": {
      "text/plain": [
       "0.692063492063492"
      ]
     },
     "execution_count": 36,
     "metadata": {},
     "output_type": "execute_result"
    }
   ],
   "source": [
    "# what is the accuracy of the model? Is it better or worse than previous?Why do you think it has changed? \n",
    "vectorizer = CountVectorizer(min_df=3, max_df=0.3)\n",
    "X = vectorizer.fit_transform(data['cleaned_text'])\n",
    "y = data['label']\n",
    "\n",
    "X_train, X_test, y_train, y_test = train_test_split(X, y, test_size=0.2, random_state=42)\n",
    "model = LogisticRegression(max_iter=1000)\n",
    "model.fit(X_train, y_train)\n",
    "y_pred = model.predict(X_test)\n",
    "accuracy_score(y_test, y_pred)"
   ]
  },
  {
   "cell_type": "markdown",
   "metadata": {},
   "source": [
    "#### Part 3: Examine the top features of your model using the following code"
   ]
  },
  {
   "cell_type": "code",
   "execution_count": 37,
   "metadata": {},
   "outputs": [],
   "source": [
    "#get the coefficients of the model and plot the top 10 most positive and top 10 most negative coefficients\n",
    "#what do you notice about these words? Are they surprising or expected?\n",
    "X = pd.DataFrame(X.toarray(), columns=vectorizer.get_feature_names_out())"
   ]
  },
  {
   "cell_type": "code",
   "execution_count": 38,
   "metadata": {},
   "outputs": [],
   "source": [
    "coefficients = pd.DataFrame({'feature': X.columns, 'coefficient': model.coef_[0]})\n",
    "coefficients = coefficients.sort_values('coefficient', ascending=False)\n",
    "top_10_positive = coefficients.head(10)\n",
    "top_10_negative = coefficients.tail(10)"
   ]
  },
  {
   "cell_type": "code",
   "execution_count": 39,
   "metadata": {},
   "outputs": [
    {
     "data": {
      "text/html": [
       "<div>\n",
       "<style scoped>\n",
       "    .dataframe tbody tr th:only-of-type {\n",
       "        vertical-align: middle;\n",
       "    }\n",
       "\n",
       "    .dataframe tbody tr th {\n",
       "        vertical-align: top;\n",
       "    }\n",
       "\n",
       "    .dataframe thead th {\n",
       "        text-align: right;\n",
       "    }\n",
       "</style>\n",
       "<table border=\"1\" class=\"dataframe\">\n",
       "  <thead>\n",
       "    <tr style=\"text-align: right;\">\n",
       "      <th></th>\n",
       "      <th>feature</th>\n",
       "      <th>coefficient</th>\n",
       "    </tr>\n",
       "  </thead>\n",
       "  <tbody>\n",
       "    <tr>\n",
       "      <th>2252</th>\n",
       "      <td>gsi</td>\n",
       "      <td>-1.767468</td>\n",
       "    </tr>\n",
       "    <tr>\n",
       "      <th>3147</th>\n",
       "      <td>mcard</td>\n",
       "      <td>-1.783633</td>\n",
       "    </tr>\n",
       "    <tr>\n",
       "      <th>4462</th>\n",
       "      <td>ross</td>\n",
       "      <td>-1.810169</td>\n",
       "    </tr>\n",
       "    <tr>\n",
       "      <th>5255</th>\n",
       "      <td>texas</td>\n",
       "      <td>-1.813905</td>\n",
       "    </tr>\n",
       "    <tr>\n",
       "      <th>5705</th>\n",
       "      <td>waitlist</td>\n",
       "      <td>-1.832588</td>\n",
       "    </tr>\n",
       "    <tr>\n",
       "      <th>214</th>\n",
       "      <td>ann</td>\n",
       "      <td>-1.834283</td>\n",
       "    </tr>\n",
       "    <tr>\n",
       "      <th>1586</th>\n",
       "      <td>eecs</td>\n",
       "      <td>-1.983786</td>\n",
       "    </tr>\n",
       "    <tr>\n",
       "      <th>5510</th>\n",
       "      <td>umich</td>\n",
       "      <td>-2.563613</td>\n",
       "    </tr>\n",
       "    <tr>\n",
       "      <th>2054</th>\n",
       "      <td>fresno</td>\n",
       "      <td>-2.600249</td>\n",
       "    </tr>\n",
       "    <tr>\n",
       "      <th>3220</th>\n",
       "      <td>michigan</td>\n",
       "      <td>-2.929601</td>\n",
       "    </tr>\n",
       "  </tbody>\n",
       "</table>\n",
       "</div>"
      ],
      "text/plain": [
       "       feature  coefficient\n",
       "2252       gsi    -1.767468\n",
       "3147     mcard    -1.783633\n",
       "4462      ross    -1.810169\n",
       "5255     texas    -1.813905\n",
       "5705  waitlist    -1.832588\n",
       "214        ann    -1.834283\n",
       "1586      eecs    -1.983786\n",
       "5510     umich    -2.563613\n",
       "2054    fresno    -2.600249\n",
       "3220  michigan    -2.929601"
      ]
     },
     "execution_count": 39,
     "metadata": {},
     "output_type": "execute_result"
    }
   ],
   "source": [
    "top_10_negative"
   ]
  },
  {
   "cell_type": "code",
   "execution_count": 40,
   "metadata": {},
   "outputs": [
    {
     "data": {
      "text/html": [
       "<div>\n",
       "<style scoped>\n",
       "    .dataframe tbody tr th:only-of-type {\n",
       "        vertical-align: middle;\n",
       "    }\n",
       "\n",
       "    .dataframe tbody tr th {\n",
       "        vertical-align: top;\n",
       "    }\n",
       "\n",
       "    .dataframe thead th {\n",
       "        text-align: right;\n",
       "    }\n",
       "</style>\n",
       "<table border=\"1\" class=\"dataframe\">\n",
       "  <thead>\n",
       "    <tr style=\"text-align: right;\">\n",
       "      <th></th>\n",
       "      <th>feature</th>\n",
       "      <th>coefficient</th>\n",
       "    </tr>\n",
       "  </thead>\n",
       "  <tbody>\n",
       "    <tr>\n",
       "      <th>5504</th>\n",
       "      <td>uiuc</td>\n",
       "      <td>2.849523</td>\n",
       "    </tr>\n",
       "    <tr>\n",
       "      <th>2533</th>\n",
       "      <td>illinois</td>\n",
       "      <td>2.143637</td>\n",
       "    </tr>\n",
       "    <tr>\n",
       "      <th>801</th>\n",
       "      <td>champaign</td>\n",
       "      <td>2.046333</td>\n",
       "    </tr>\n",
       "    <tr>\n",
       "      <th>2212</th>\n",
       "      <td>grainger</td>\n",
       "      <td>1.988553</td>\n",
       "    </tr>\n",
       "    <tr>\n",
       "      <th>5589</th>\n",
       "      <td>urbana</td>\n",
       "      <td>1.985031</td>\n",
       "    </tr>\n",
       "    <tr>\n",
       "      <th>4475</th>\n",
       "      <td>rsos</td>\n",
       "      <td>1.894095</td>\n",
       "    </tr>\n",
       "    <tr>\n",
       "      <th>2532</th>\n",
       "      <td>illini</td>\n",
       "      <td>1.852416</td>\n",
       "    </tr>\n",
       "    <tr>\n",
       "      <th>1236</th>\n",
       "      <td>danville</td>\n",
       "      <td>1.780771</td>\n",
       "    </tr>\n",
       "    <tr>\n",
       "      <th>2848</th>\n",
       "      <td>las</td>\n",
       "      <td>1.694803</td>\n",
       "    </tr>\n",
       "    <tr>\n",
       "      <th>5749</th>\n",
       "      <td>water</td>\n",
       "      <td>1.635090</td>\n",
       "    </tr>\n",
       "  </tbody>\n",
       "</table>\n",
       "</div>"
      ],
      "text/plain": [
       "        feature  coefficient\n",
       "5504       uiuc     2.849523\n",
       "2533   illinois     2.143637\n",
       "801   champaign     2.046333\n",
       "2212   grainger     1.988553\n",
       "5589     urbana     1.985031\n",
       "4475       rsos     1.894095\n",
       "2532     illini     1.852416\n",
       "1236   danville     1.780771\n",
       "2848        las     1.694803\n",
       "5749      water     1.635090"
      ]
     },
     "execution_count": 40,
     "metadata": {},
     "output_type": "execute_result"
    }
   ],
   "source": [
    "top_10_positive"
   ]
  },
  {
   "cell_type": "code",
   "execution_count": 41,
   "metadata": {},
   "outputs": [],
   "source": [
    "#examine these words and see if they make sense. Do they differentiate UIUC from another university?"
   ]
  },
  {
   "cell_type": "markdown",
   "metadata": {},
   "source": [
    "They do make sense, as the top 10 words classified as UIUC are very school related words that indicates features of uiuc, e.g. uiuc, illinois, grainger, urbana, champaign. On the otther hand, the Michigan one is either a little confusing or I am just not familiar with what is around UMich. "
   ]
  },
  {
   "cell_type": "markdown",
   "metadata": {},
   "source": [
    "### Problem 4: Train a 10 topic topic model from the UIUC subreddit data using Gensim LDA. (https://radimrehurek.com/gensim/auto_examples/tutorials/run_lda.html) If you get here before Wednesday 9/11, don't rush to finish, but feel free to continue ahead. We will go through this in class. Print out the top words in each topic, and read through the words for each topic to decide the theme of the topic: remember this is subjective and there are no right or wrong answers. Print out a few comments with high frequencies of each topic and analyze if your topic labels were representative. "
   ]
  },
  {
   "cell_type": "code",
   "execution_count": 42,
   "metadata": {},
   "outputs": [],
   "source": [
    "#!pip3 install gensim"
   ]
  },
  {
   "cell_type": "code",
   "execution_count": 53,
   "metadata": {},
   "outputs": [],
   "source": [
    "df=pd.read_csv('IMDB Dataset.csv')\n",
    "df[\"review\"] = df[\"review\"].apply(clean)\n",
    "df[\"sentiment\"] = df[\"sentiment\"].apply(lambda x: 1 if x==\"positive\" else 0)\n",
    "X = vectorizer.fit_transform(df[\"review\"])"
   ]
  },
  {
   "cell_type": "code",
   "execution_count": 62,
   "metadata": {},
   "outputs": [
    {
     "data": {
      "text/html": [
       "<div>\n",
       "<style scoped>\n",
       "    .dataframe tbody tr th:only-of-type {\n",
       "        vertical-align: middle;\n",
       "    }\n",
       "\n",
       "    .dataframe tbody tr th {\n",
       "        vertical-align: top;\n",
       "    }\n",
       "\n",
       "    .dataframe thead th {\n",
       "        text-align: right;\n",
       "    }\n",
       "</style>\n",
       "<table border=\"1\" class=\"dataframe\">\n",
       "  <thead>\n",
       "    <tr style=\"text-align: right;\">\n",
       "      <th></th>\n",
       "      <th>review</th>\n",
       "      <th>sentiment</th>\n",
       "    </tr>\n",
       "  </thead>\n",
       "  <tbody>\n",
       "    <tr>\n",
       "      <th>0</th>\n",
       "      <td>one of the other reviewers has mentioned that after watching just  oz episode youll be hooked they are right as this is exactly what happened with mebr br the first thing that struck me about oz was its brutality and unflinching scenes of violence which set in right from the word go trust me this is not a show for the faint hearted or timid this show pulls no punches with regards to drugs sex or violence its is hardcore in the classic use of the wordbr br it is called oz as that is the nickname given to the oswald maximum security state penitentary it focuses mainly on emerald city an experimental section of the prison where all the cells have glass fronts and face inwards so privacy is not high on the agenda em city is home to manyaryans muslims gangstas latinos christians italians irish and moreso scuffles death stares dodgy dealings and shady agreements are never far awaybr br i would say the main appeal of the show is due to the fact that it goes where other shows wouldnt dare forget pretty pictures painted for mainstream audiences forget charm forget romanceoz doesnt mess around the first episode i ever saw struck me as so nasty it was surreal i couldnt say i was ready for it but as i watched more i developed a taste for oz and got accustomed to the high levels of graphic violence not just violence but injustice crooked guards wholl be sold out for a nickel inmates wholl kill on order and get away with it well mannered middle class inmates being turned into prison bitches due to their lack of street skills or prison experience watching oz you may become comfortable with what is uncomfortable viewingthats if you can get in touch with your darker side</td>\n",
       "      <td>1</td>\n",
       "    </tr>\n",
       "    <tr>\n",
       "      <th>1</th>\n",
       "      <td>a wonderful little production br br the filming technique is very unassuming very oldtimebbc fashion and gives a comforting and sometimes discomforting sense of realism to the entire piece br br the actors are extremely well chosen michael sheen not only has got all the polari but he has all the voices down pat too you can truly see the seamless editing guided by the references to williams diary entries not only is it well worth the watching but it is a terrificly written and performed piece a masterful production about one of the great masters of comedy and his life br br the realism really comes home with the little things the fantasy of the guard which rather than use the traditional dream techniques remains solid then disappears it plays on our knowledge and our senses particularly with the scenes concerning orton and halliwell and the sets particularly of their flat with halliwells murals decorating every surface are terribly well done</td>\n",
       "      <td>1</td>\n",
       "    </tr>\n",
       "    <tr>\n",
       "      <th>2</th>\n",
       "      <td>i thought this was a wonderful way to spend time on a too hot summer weekend sitting in the air conditioned theater and watching a lighthearted comedy the plot is simplistic but the dialogue is witty and the characters are likable even the well bread suspected serial killer while some may be disappointed when they realize this is not match point  risk addiction i thought it was proof that woody allen is still fully in control of the style many of us have grown to lovebr br this was the most id laughed at one of woodys comedies in years dare i say a decade while ive never been impressed with scarlet johanson in this she managed to tone down her sexy image and jumped right into a average but spirited young womanbr br this may not be the crown jewel of his career but it was wittier than devil wears prada and more interesting than superman a great comedy to go see with friends</td>\n",
       "      <td>1</td>\n",
       "    </tr>\n",
       "    <tr>\n",
       "      <th>3</th>\n",
       "      <td>basically theres a family where a little boy jake thinks theres a zombie in his closet  his parents are fighting all the timebr br this movie is slower than a soap opera and suddenly jake decides to become rambo and kill the zombiebr br ok first of all when youre going to make a film you must decide if its a thriller or a drama as a drama the movie is watchable parents are divorcing  arguing like in real life and then we have jake with his closet which totally ruins all the film i expected to see a boogeyman similar movie and instead i watched a drama with some meaningless thriller spotsbr br  out of  just for the well playing parents  descent dialogs as for the shots with jake just ignore them</td>\n",
       "      <td>0</td>\n",
       "    </tr>\n",
       "    <tr>\n",
       "      <th>4</th>\n",
       "      <td>petter matteis love in the time of money is a visually stunning film to watch mr mattei offers us a vivid portrait about human relations this is a movie that seems to be telling us what money power and success do to people in the different situations we encounter br br this being a variation on the arthur schnitzlers play about the same theme the director transfers the action to the present time new york where all these different characters meet and connect each one is connected in one way or another to the next person but no one seems to know the previous point of contact stylishly the film has a sophisticated luxurious look we are taken to see how these people live and the world they live in their own habitatbr br the only thing one gets out of all these souls in the picture is the different stages of loneliness each one inhabits a big city is not exactly the best place in which human relations find sincere fulfillment as one discerns is the case with most of the people we encounterbr br the acting is good under mr matteis direction steve buscemi rosario dawson carol kane michael imperioli adrian grenier and the rest of the talented cast make these characters come alivebr br we wish mr mattei good luck and await anxiously for his next work</td>\n",
       "      <td>1</td>\n",
       "    </tr>\n",
       "    <tr>\n",
       "      <th>...</th>\n",
       "      <td>...</td>\n",
       "      <td>...</td>\n",
       "    </tr>\n",
       "    <tr>\n",
       "      <th>49995</th>\n",
       "      <td>i thought this movie did a down right good job it wasnt as creative or original as the first but who was expecting it to be it was a whole lotta fun the more i think about it the more i like it and when it comes out on dvd im going to pay the money for it very proudly every last cent sharon stone is great she always is even if her movie is horriblecatwoman but this movie isnt this is one of those movies that will be underrated for its lifetime and it will probably become a classic in like  yrs dont wait for it to be a classic watch it now and enjoy it dont expect a masterpiece or something thats gripping and soul touching just allow yourself to get out of your life and get yourself involved in theirsbr br all in all this movie is entertaining and i recommend people who havent seen it see it because what the critics and box office say doesnt always count see it for yourself you never know you might just enjoy it i tip my hat to this moviebr br</td>\n",
       "      <td>1</td>\n",
       "    </tr>\n",
       "    <tr>\n",
       "      <th>49996</th>\n",
       "      <td>bad plot bad dialogue bad acting idiotic directing the annoying porn groove soundtrack that ran continually over the overacted script and a crappy copy of the vhs cannot be redeemed by consuming liquor trust me because i stuck this turkey out to the end it was so pathetically bad all over that i had to figure it was a fourthrate spoof of springtime for hitlerbr br the girl who played janis joplin was the only faint spark of interest and that was only because she could sing better than the originalbr br if you want to watch something similar but a thousand times better then watch beyond the valley of the dolls</td>\n",
       "      <td>0</td>\n",
       "    </tr>\n",
       "    <tr>\n",
       "      <th>49997</th>\n",
       "      <td>i am a catholic taught in parochial elementary schools by nuns taught by jesuit priests in high school  college i am still a practicing catholic but would not be considered a good catholic in the churchs eyes because i dont believe certain things or act certain ways just because the church tells me tobr br so back to the movieits bad because two people are killed by this nun who is supposed to be a satire as the embodiment of a female religious figurehead there is no comedy in that and the satire is not done well by the over acting of diane keaton i never saw the play but if it was very different from this movies then it may be goodbr br at first i thought the gun might be a fake and the first shooting all a plan by the female lead of the four former students as an attempt to demonstrate sister marys emotional and intellectual bigotry of faith but it turns out the bullets were real and the story has tragedythe tragedy of loss of life besides the two former studentsthe lives of the aborted babies the life of the students mom the tragedy of dogmatic authority over love of people the tragedy of organized religion replacing true faith in god this is what is wrong with todays islam and yesterdays judaism and christianity</td>\n",
       "      <td>0</td>\n",
       "    </tr>\n",
       "    <tr>\n",
       "      <th>49998</th>\n",
       "      <td>im going to have to disagree with the previous comment and side with maltin on this one this is a second rate excessively vicious western that creaks and groans trying to put across its central theme of the wild west being tamed and kicked aside by the steady march of time it would like to be in the tradition of butch cassidy and the sundance kid but lacks that films poignancy and charm andrew mclaglens direction is limp and the final  minutes or so are a real botch with some incomprehensible strategy on the part of heroes charlton heston and chris mitchum someone give me a holler if you can explain to me why they set that hillside on fire there was something callous about the whole treatment of the rape scene and the womans reaction afterwards certainly did not ring true coburn is plenty nasty as the half breed escaped convict out for revenge but all of his fellow escapees are underdeveloped theyre like bowling pins to be knocked down one by one as the story lurches forward michael parks gives one of his typically shifty lethargic mumbling performances but in this case it was appropriate as his modern style sheriff symbolizes the complacency that technological progress can bring about</td>\n",
       "      <td>0</td>\n",
       "    </tr>\n",
       "    <tr>\n",
       "      <th>49999</th>\n",
       "      <td>no one expects the star trek movies to be high art but the fans do expect a movie that is as good as some of the best episodes unfortunately this movie had a muddled implausible plot that just left me cringing  this is by far the worst of the nine so far movies even the chance to watch the well known characters interact in another movie cant save this movie  including the goofy scenes with kirk spock and mccoy at yosemitebr br i would say this movie is not worth a rental and hardly worth watching however for the true fan who needs to see all the movies renting this movie is about the only way youll see it  even the cable channels avoid this movie</td>\n",
       "      <td>0</td>\n",
       "    </tr>\n",
       "  </tbody>\n",
       "</table>\n",
       "<p>50000 rows × 2 columns</p>\n",
       "</div>"
      ],
      "text/plain": [
       "                                                                                                                                                                                                                                                                                                                                                                                                                                                                                                                                                                                                                                                                                                                                                                                                                                                                                                                                                                                                                                                                                                                                                                                                                                                                                                                                                                                                                                                                                                                                                                                                                                                                                                                                                   review  \\\n",
       "0      one of the other reviewers has mentioned that after watching just  oz episode youll be hooked they are right as this is exactly what happened with mebr br the first thing that struck me about oz was its brutality and unflinching scenes of violence which set in right from the word go trust me this is not a show for the faint hearted or timid this show pulls no punches with regards to drugs sex or violence its is hardcore in the classic use of the wordbr br it is called oz as that is the nickname given to the oswald maximum security state penitentary it focuses mainly on emerald city an experimental section of the prison where all the cells have glass fronts and face inwards so privacy is not high on the agenda em city is home to manyaryans muslims gangstas latinos christians italians irish and moreso scuffles death stares dodgy dealings and shady agreements are never far awaybr br i would say the main appeal of the show is due to the fact that it goes where other shows wouldnt dare forget pretty pictures painted for mainstream audiences forget charm forget romanceoz doesnt mess around the first episode i ever saw struck me as so nasty it was surreal i couldnt say i was ready for it but as i watched more i developed a taste for oz and got accustomed to the high levels of graphic violence not just violence but injustice crooked guards wholl be sold out for a nickel inmates wholl kill on order and get away with it well mannered middle class inmates being turned into prison bitches due to their lack of street skills or prison experience watching oz you may become comfortable with what is uncomfortable viewingthats if you can get in touch with your darker side   \n",
       "1                                                                                                                                                                                                                                                                                                                                                                                                                                                                                                                                                                                                                                                                                                                                                              a wonderful little production br br the filming technique is very unassuming very oldtimebbc fashion and gives a comforting and sometimes discomforting sense of realism to the entire piece br br the actors are extremely well chosen michael sheen not only has got all the polari but he has all the voices down pat too you can truly see the seamless editing guided by the references to williams diary entries not only is it well worth the watching but it is a terrificly written and performed piece a masterful production about one of the great masters of comedy and his life br br the realism really comes home with the little things the fantasy of the guard which rather than use the traditional dream techniques remains solid then disappears it plays on our knowledge and our senses particularly with the scenes concerning orton and halliwell and the sets particularly of their flat with halliwells murals decorating every surface are terribly well done   \n",
       "2                                                                                                                                                                                                                                                                                                                                                                                                                                                                                                                                                                                                                                                                                                                                                                                                                                   i thought this was a wonderful way to spend time on a too hot summer weekend sitting in the air conditioned theater and watching a lighthearted comedy the plot is simplistic but the dialogue is witty and the characters are likable even the well bread suspected serial killer while some may be disappointed when they realize this is not match point  risk addiction i thought it was proof that woody allen is still fully in control of the style many of us have grown to lovebr br this was the most id laughed at one of woodys comedies in years dare i say a decade while ive never been impressed with scarlet johanson in this she managed to tone down her sexy image and jumped right into a average but spirited young womanbr br this may not be the crown jewel of his career but it was wittier than devil wears prada and more interesting than superman a great comedy to go see with friends   \n",
       "3                                                                                                                                                                                                                                                                                                                                                                                                                                                                                                                                                                                                                                                                                                                                                                                                                                                                                                                                                                                                                         basically theres a family where a little boy jake thinks theres a zombie in his closet  his parents are fighting all the timebr br this movie is slower than a soap opera and suddenly jake decides to become rambo and kill the zombiebr br ok first of all when youre going to make a film you must decide if its a thriller or a drama as a drama the movie is watchable parents are divorcing  arguing like in real life and then we have jake with his closet which totally ruins all the film i expected to see a boogeyman similar movie and instead i watched a drama with some meaningless thriller spotsbr br  out of  just for the well playing parents  descent dialogs as for the shots with jake just ignore them   \n",
       "4                                                                                                                                                                                                                                                                                                                                                                                                                                           petter matteis love in the time of money is a visually stunning film to watch mr mattei offers us a vivid portrait about human relations this is a movie that seems to be telling us what money power and success do to people in the different situations we encounter br br this being a variation on the arthur schnitzlers play about the same theme the director transfers the action to the present time new york where all these different characters meet and connect each one is connected in one way or another to the next person but no one seems to know the previous point of contact stylishly the film has a sophisticated luxurious look we are taken to see how these people live and the world they live in their own habitatbr br the only thing one gets out of all these souls in the picture is the different stages of loneliness each one inhabits a big city is not exactly the best place in which human relations find sincere fulfillment as one discerns is the case with most of the people we encounterbr br the acting is good under mr matteis direction steve buscemi rosario dawson carol kane michael imperioli adrian grenier and the rest of the talented cast make these characters come alivebr br we wish mr mattei good luck and await anxiously for his next work   \n",
       "...                                                                                                                                                                                                                                                                                                                                                                                                                                                                                                                                                                                                                                                                                                                                                                                                                                                                                                                                                                                                                                                                                                                                                                                                                                                                                                                                                                                                                                                                                                                                                                                                                                                                                                                                                   ...   \n",
       "49995                                                                                                                                                                                                                                                                                                                                                                                                                                                                                                                                                                                                                                                                                                                                                       i thought this movie did a down right good job it wasnt as creative or original as the first but who was expecting it to be it was a whole lotta fun the more i think about it the more i like it and when it comes out on dvd im going to pay the money for it very proudly every last cent sharon stone is great she always is even if her movie is horriblecatwoman but this movie isnt this is one of those movies that will be underrated for its lifetime and it will probably become a classic in like  yrs dont wait for it to be a classic watch it now and enjoy it dont expect a masterpiece or something thats gripping and soul touching just allow yourself to get out of your life and get yourself involved in theirsbr br all in all this movie is entertaining and i recommend people who havent seen it see it because what the critics and box office say doesnt always count see it for yourself you never know you might just enjoy it i tip my hat to this moviebr br    \n",
       "49996                                                                                                                                                                                                                                                                                                                                                                                                                                                                                                                                                                                                                                                                                                                                                                                                                                                                                                                                                                                                                                                                                                            bad plot bad dialogue bad acting idiotic directing the annoying porn groove soundtrack that ran continually over the overacted script and a crappy copy of the vhs cannot be redeemed by consuming liquor trust me because i stuck this turkey out to the end it was so pathetically bad all over that i had to figure it was a fourthrate spoof of springtime for hitlerbr br the girl who played janis joplin was the only faint spark of interest and that was only because she could sing better than the originalbr br if you want to watch something similar but a thousand times better then watch beyond the valley of the dolls   \n",
       "49997                                                                                                                                                                                                                                                                                                                                                                                                                                                                 i am a catholic taught in parochial elementary schools by nuns taught by jesuit priests in high school  college i am still a practicing catholic but would not be considered a good catholic in the churchs eyes because i dont believe certain things or act certain ways just because the church tells me tobr br so back to the movieits bad because two people are killed by this nun who is supposed to be a satire as the embodiment of a female religious figurehead there is no comedy in that and the satire is not done well by the over acting of diane keaton i never saw the play but if it was very different from this movies then it may be goodbr br at first i thought the gun might be a fake and the first shooting all a plan by the female lead of the four former students as an attempt to demonstrate sister marys emotional and intellectual bigotry of faith but it turns out the bullets were real and the story has tragedythe tragedy of loss of life besides the two former studentsthe lives of the aborted babies the life of the students mom the tragedy of dogmatic authority over love of people the tragedy of organized religion replacing true faith in god this is what is wrong with todays islam and yesterdays judaism and christianity   \n",
       "49998                                                                                                                                                                                                                                                                                                                                                                                                                                                                                                im going to have to disagree with the previous comment and side with maltin on this one this is a second rate excessively vicious western that creaks and groans trying to put across its central theme of the wild west being tamed and kicked aside by the steady march of time it would like to be in the tradition of butch cassidy and the sundance kid but lacks that films poignancy and charm andrew mclaglens direction is limp and the final  minutes or so are a real botch with some incomprehensible strategy on the part of heroes charlton heston and chris mitchum someone give me a holler if you can explain to me why they set that hillside on fire there was something callous about the whole treatment of the rape scene and the womans reaction afterwards certainly did not ring true coburn is plenty nasty as the half breed escaped convict out for revenge but all of his fellow escapees are underdeveloped theyre like bowling pins to be knocked down one by one as the story lurches forward michael parks gives one of his typically shifty lethargic mumbling performances but in this case it was appropriate as his modern style sheriff symbolizes the complacency that technological progress can bring about   \n",
       "49999                                                                                                                                                                                                                                                                                                                                                                                                                                                                                                                                                                                                                                                                                                                                                                                                                                                                                                                                                                                                                                                                      no one expects the star trek movies to be high art but the fans do expect a movie that is as good as some of the best episodes unfortunately this movie had a muddled implausible plot that just left me cringing  this is by far the worst of the nine so far movies even the chance to watch the well known characters interact in another movie cant save this movie  including the goofy scenes with kirk spock and mccoy at yosemitebr br i would say this movie is not worth a rental and hardly worth watching however for the true fan who needs to see all the movies renting this movie is about the only way youll see it  even the cable channels avoid this movie   \n",
       "\n",
       "       sentiment  \n",
       "0              1  \n",
       "1              1  \n",
       "2              1  \n",
       "3              0  \n",
       "4              1  \n",
       "...          ...  \n",
       "49995          1  \n",
       "49996          0  \n",
       "49997          0  \n",
       "49998          0  \n",
       "49999          0  \n",
       "\n",
       "[50000 rows x 2 columns]"
      ]
     },
     "execution_count": 62,
     "metadata": {},
     "output_type": "execute_result"
    }
   ],
   "source": [
    "df"
   ]
  },
  {
   "cell_type": "code",
   "execution_count": 54,
   "metadata": {},
   "outputs": [],
   "source": [
    "from scipy.sparse import csr_matrix\n",
    "from gensim import corpora\n",
    "from gensim.models import LdaModel\n",
    "from gensim.matutils import Sparse2Corpus\n",
    "X_sparse = csr_matrix(X)\n",
    "corpus = Sparse2Corpus(X_sparse, documents_columns=False)\n",
    "id2word = dict((v, k) for k, v in vectorizer.vocabulary_.items())"
   ]
  },
  {
   "cell_type": "code",
   "execution_count": 55,
   "metadata": {},
   "outputs": [
    {
     "data": {
      "text/plain": [
       "[(0,\n",
       "  '0.007*\"films\" + 0.007*\"which\" + 0.007*\"story\" + 0.006*\"their\" + 0.005*\"characters\" + 0.005*\"into\" + 0.004*\"than\" + 0.004*\"most\" + 0.004*\"other\" + 0.004*\"these\"'),\n",
       " (1,\n",
       "  '0.059*\"her\" + 0.041*\"she\" + 0.008*\"love\" + 0.006*\"him\" + 0.006*\"woman\" + 0.005*\"story\" + 0.004*\"girl\" + 0.004*\"their\" + 0.004*\"young\" + 0.004*\"shes\"'),\n",
       " (2,\n",
       "  '0.009*\"we\" + 0.008*\"life\" + 0.007*\"him\" + 0.006*\"their\" + 0.005*\"which\" + 0.005*\"man\" + 0.004*\"will\" + 0.004*\"into\" + 0.004*\"us\" + 0.003*\"how\"'),\n",
       " (3,\n",
       "  '0.010*\"war\" + 0.009*\"series\" + 0.007*\"their\" + 0.006*\"episode\" + 0.006*\"were\" + 0.005*\"first\" + 0.005*\"which\" + 0.004*\"had\" + 0.004*\"after\" + 0.004*\"years\"'),\n",
       " (4,\n",
       "  '0.006*\"into\" + 0.006*\"him\" + 0.005*\"which\" + 0.005*\"then\" + 0.004*\"off\" + 0.004*\"scene\" + 0.004*\"theres\" + 0.004*\"plot\" + 0.004*\"get\" + 0.004*\"after\"'),\n",
       " (5,\n",
       "  '0.012*\"show\" + 0.009*\"great\" + 0.006*\"him\" + 0.006*\"best\" + 0.004*\"get\" + 0.004*\"their\" + 0.004*\"comedy\" + 0.004*\"music\" + 0.004*\"love\" + 0.004*\"funny\"'),\n",
       " (6,\n",
       "  '0.009*\"people\" + 0.008*\"really\" + 0.007*\"dont\" + 0.007*\"get\" + 0.007*\"do\" + 0.006*\"them\" + 0.006*\"funny\" + 0.006*\"your\" + 0.005*\"bad\" + 0.005*\"then\"'),\n",
       " (7,\n",
       "  '0.010*\"me\" + 0.010*\"had\" + 0.010*\"were\" + 0.009*\"bad\" + 0.008*\"really\" + 0.007*\"movies\" + 0.007*\"seen\" + 0.007*\"dont\" + 0.006*\"could\" + 0.006*\"watch\"'),\n",
       " (8,\n",
       "  '0.008*\"well\" + 0.007*\"great\" + 0.007*\"story\" + 0.007*\"characters\" + 0.006*\"character\" + 0.005*\"which\" + 0.005*\"cast\" + 0.005*\"most\" + 0.005*\"actors\" + 0.005*\"than\"'),\n",
       " (9,\n",
       "  '0.027*\"horror\" + 0.009*\"films\" + 0.008*\"gore\" + 0.006*\"blood\" + 0.006*\"effects\" + 0.006*\"killer\" + 0.005*\"vampire\" + 0.005*\"fans\" + 0.005*\"slasher\" + 0.004*\"monster\"')]"
      ]
     },
     "execution_count": 55,
     "metadata": {},
     "output_type": "execute_result"
    }
   ],
   "source": [
    "lda_model = LdaModel(corpus=corpus, id2word=id2word, num_topics=10)\n",
    "lda_model.print_topics()"
   ]
  },
  {
   "cell_type": "markdown",
   "metadata": {},
   "source": [
    "#0 a novel being made into a film discussion \n",
    "\n",
    "#1 high school soap opera related story\n",
    "\n",
    "#2 life thinking related\n",
    "\n",
    "#3 war movie \n",
    "\n",
    "#4 some sort of tv series \n",
    "\n",
    "#5 disney channel shows \n",
    "\n",
    "#6 stand up comedy debate\n",
    "\n",
    "#7 bad movies \n",
    "\n",
    "#8 discussion of some movie \n",
    "\n",
    "#9 horror / thriller movies"
   ]
  },
  {
   "cell_type": "code",
   "execution_count": 56,
   "metadata": {},
   "outputs": [
    {
     "name": "stdout",
     "output_type": "stream",
     "text": [
      "taut and organically gripping edward dmytryks crossfire is a distinctive\n",
      "suspense thriller an unlikely message movie using the look and devices of the\n",
      "noir cyclebr br bivouacked in washington dc a company of soldiers cope with\n",
      "their restlessness by hanging out in bars three of them end up at a strangers\n",
      "apartment where robert ryan drunk and belligerent beats their host sam levene to\n",
      "death because he happens to be jewish police detective robert young investigates\n",
      "with the help of robert mitchum whos assigned to ryans outfit suspicion falls on\n",
      "the second of the three george cooper who has vanished ryan slays the third\n",
      "buddy steve brodie to insure his silence before young closes inbr br abetted by\n",
      "a superior script by john paxton dmytryk draws precise performances from his\n",
      "three starring bobs ryan naturally does his prototypical angry white male and to\n",
      "the hilt while mitchum underplays with his characteristic alert nonchalance his\n",
      "role however is not central young may never have been better gloria grahame\n",
      "gives her first fullyfledged rendition of the smartmouthed vulnerable tramp and\n",
      "as a sad sack whos leeched into her life paul kelly haunts us in a small\n",
      "peripheral role that he makes memorablebr br the politically engaged dmytryk\n",
      "perhaps inevitably succumbs to sermonizing but its pretty much confined to\n",
      "youngs reminiscence of how his irish grandfather died at the hands of bigots a\n",
      "century earlier thus incidentally stretching chronology to the limit at least\n",
      "theres no attempt to render an explanation however glib of why ryan hates jews\n",
      "and hillbillies andbr br curiously crossfire survives even the major change\n",
      "wrought upon it  the novel its based on richard brooks the brick foxhole dealt\n",
      "with a gaybashing murder but homosexuality in  was still beyond the pale news of\n",
      "the holocaust had however begun to emerge from the ashes of europe so hollywood\n",
      "felt emboldened to register its protest against antisemitism the studios always\n",
      "quaked at the prospect of offending any potential ticket buyerbr br but while\n",
      "the change from homophobia to antisemitism works in general the specifics dont\n",
      "fit so smoothly the victims chatting up a lonesome drunk young soldier then\n",
      "inviting him back home looks odd even though or especially since theres a\n",
      "girlfriend in tow it raises the question whether this scenario was retained\n",
      "inadvertently or left in as a discreet tipoff to the original engine generating\n",
      "ryans murderous rage\n"
     ]
    }
   ],
   "source": [
    "import textwrap\n",
    "\n",
    "pd.set_option('display.max_colwidth', None)\n",
    "toprint = df['review'][30]\n",
    "wrapped_string = textwrap.fill(toprint, width=80)\n",
    "print(wrapped_string)"
   ]
  },
  {
   "cell_type": "code",
   "execution_count": 57,
   "metadata": {},
   "outputs": [
    {
     "data": {
      "text/plain": [
       "[(0, 0.059188373),\n",
       " (1, 0.15269764),\n",
       " (2, 0.46970394),\n",
       " (3, 0.072848395),\n",
       " (4, 0.17545421),\n",
       " (5, 0.06847273)]"
      ]
     },
     "execution_count": 57,
     "metadata": {},
     "output_type": "execute_result"
    }
   ],
   "source": [
    "lda_model.get_document_topics(corpus[30])"
   ]
  },
  {
   "cell_type": "code",
   "execution_count": 60,
   "metadata": {},
   "outputs": [
    {
     "data": {
      "text/html": [
       "<div>\n",
       "<style scoped>\n",
       "    .dataframe tbody tr th:only-of-type {\n",
       "        vertical-align: middle;\n",
       "    }\n",
       "\n",
       "    .dataframe tbody tr th {\n",
       "        vertical-align: top;\n",
       "    }\n",
       "\n",
       "    .dataframe thead th {\n",
       "        text-align: right;\n",
       "    }\n",
       "</style>\n",
       "<table border=\"1\" class=\"dataframe\">\n",
       "  <thead>\n",
       "    <tr style=\"text-align: right;\">\n",
       "      <th></th>\n",
       "      <th>0</th>\n",
       "      <th>1</th>\n",
       "      <th>2</th>\n",
       "      <th>3</th>\n",
       "      <th>4</th>\n",
       "      <th>5</th>\n",
       "      <th>6</th>\n",
       "      <th>7</th>\n",
       "      <th>8</th>\n",
       "      <th>9</th>\n",
       "    </tr>\n",
       "  </thead>\n",
       "  <tbody>\n",
       "    <tr>\n",
       "      <th>19815</th>\n",
       "      <td>0.001222</td>\n",
       "      <td>0.001222</td>\n",
       "      <td>0.001222</td>\n",
       "      <td>0.937656</td>\n",
       "      <td>0.001222</td>\n",
       "      <td>0.052569</td>\n",
       "      <td>0.001223</td>\n",
       "      <td>0.001222</td>\n",
       "      <td>0.001222</td>\n",
       "      <td>0.001222</td>\n",
       "    </tr>\n",
       "    <tr>\n",
       "      <th>48927</th>\n",
       "      <td>0.010006</td>\n",
       "      <td>0.010007</td>\n",
       "      <td>0.010007</td>\n",
       "      <td>0.909938</td>\n",
       "      <td>0.010006</td>\n",
       "      <td>0.010009</td>\n",
       "      <td>0.010006</td>\n",
       "      <td>0.010007</td>\n",
       "      <td>0.010007</td>\n",
       "      <td>0.010007</td>\n",
       "    </tr>\n",
       "    <tr>\n",
       "      <th>39182</th>\n",
       "      <td>0.010006</td>\n",
       "      <td>0.010007</td>\n",
       "      <td>0.010007</td>\n",
       "      <td>0.909936</td>\n",
       "      <td>0.010006</td>\n",
       "      <td>0.010011</td>\n",
       "      <td>0.010006</td>\n",
       "      <td>0.010007</td>\n",
       "      <td>0.010007</td>\n",
       "      <td>0.010007</td>\n",
       "    </tr>\n",
       "    <tr>\n",
       "      <th>47459</th>\n",
       "      <td>0.084234</td>\n",
       "      <td>0.001855</td>\n",
       "      <td>0.001856</td>\n",
       "      <td>0.900923</td>\n",
       "      <td>0.001856</td>\n",
       "      <td>0.001855</td>\n",
       "      <td>0.001855</td>\n",
       "      <td>0.001855</td>\n",
       "      <td>0.001855</td>\n",
       "      <td>0.001855</td>\n",
       "    </tr>\n",
       "    <tr>\n",
       "      <th>26626</th>\n",
       "      <td>0.002441</td>\n",
       "      <td>0.002441</td>\n",
       "      <td>0.092162</td>\n",
       "      <td>0.888307</td>\n",
       "      <td>0.002441</td>\n",
       "      <td>0.002441</td>\n",
       "      <td>0.002441</td>\n",
       "      <td>0.002442</td>\n",
       "      <td>0.002441</td>\n",
       "      <td>0.002441</td>\n",
       "    </tr>\n",
       "    <tr>\n",
       "      <th>...</th>\n",
       "      <td>...</td>\n",
       "      <td>...</td>\n",
       "      <td>...</td>\n",
       "      <td>...</td>\n",
       "      <td>...</td>\n",
       "      <td>...</td>\n",
       "      <td>...</td>\n",
       "      <td>...</td>\n",
       "      <td>...</td>\n",
       "      <td>...</td>\n",
       "    </tr>\n",
       "    <tr>\n",
       "      <th>32592</th>\n",
       "      <td>0.023135</td>\n",
       "      <td>0.071416</td>\n",
       "      <td>0.552582</td>\n",
       "      <td>0.000148</td>\n",
       "      <td>0.025232</td>\n",
       "      <td>0.009109</td>\n",
       "      <td>0.163779</td>\n",
       "      <td>0.154302</td>\n",
       "      <td>0.000148</td>\n",
       "      <td>0.000148</td>\n",
       "    </tr>\n",
       "    <tr>\n",
       "      <th>18594</th>\n",
       "      <td>0.051119</td>\n",
       "      <td>0.000139</td>\n",
       "      <td>0.043643</td>\n",
       "      <td>0.000139</td>\n",
       "      <td>0.311205</td>\n",
       "      <td>0.040065</td>\n",
       "      <td>0.370487</td>\n",
       "      <td>0.105742</td>\n",
       "      <td>0.019196</td>\n",
       "      <td>0.058265</td>\n",
       "    </tr>\n",
       "    <tr>\n",
       "      <th>14797</th>\n",
       "      <td>0.517259</td>\n",
       "      <td>0.107268</td>\n",
       "      <td>0.269504</td>\n",
       "      <td>0.000137</td>\n",
       "      <td>0.060652</td>\n",
       "      <td>0.000137</td>\n",
       "      <td>0.037605</td>\n",
       "      <td>0.000137</td>\n",
       "      <td>0.000137</td>\n",
       "      <td>0.007165</td>\n",
       "    </tr>\n",
       "    <tr>\n",
       "      <th>1531</th>\n",
       "      <td>0.086697</td>\n",
       "      <td>0.053272</td>\n",
       "      <td>0.440583</td>\n",
       "      <td>0.000136</td>\n",
       "      <td>0.015236</td>\n",
       "      <td>0.041088</td>\n",
       "      <td>0.001745</td>\n",
       "      <td>0.360971</td>\n",
       "      <td>0.000136</td>\n",
       "      <td>0.000136</td>\n",
       "    </tr>\n",
       "    <tr>\n",
       "      <th>40521</th>\n",
       "      <td>0.143867</td>\n",
       "      <td>0.302467</td>\n",
       "      <td>0.225256</td>\n",
       "      <td>0.000086</td>\n",
       "      <td>0.156550</td>\n",
       "      <td>0.021617</td>\n",
       "      <td>0.046474</td>\n",
       "      <td>0.099153</td>\n",
       "      <td>0.004443</td>\n",
       "      <td>0.000086</td>\n",
       "    </tr>\n",
       "  </tbody>\n",
       "</table>\n",
       "<p>50000 rows × 10 columns</p>\n",
       "</div>"
      ],
      "text/plain": [
       "              0         1         2         3         4         5         6  \\\n",
       "19815  0.001222  0.001222  0.001222  0.937656  0.001222  0.052569  0.001223   \n",
       "48927  0.010006  0.010007  0.010007  0.909938  0.010006  0.010009  0.010006   \n",
       "39182  0.010006  0.010007  0.010007  0.909936  0.010006  0.010011  0.010006   \n",
       "47459  0.084234  0.001855  0.001856  0.900923  0.001856  0.001855  0.001855   \n",
       "26626  0.002441  0.002441  0.092162  0.888307  0.002441  0.002441  0.002441   \n",
       "...         ...       ...       ...       ...       ...       ...       ...   \n",
       "32592  0.023135  0.071416  0.552582  0.000148  0.025232  0.009109  0.163779   \n",
       "18594  0.051119  0.000139  0.043643  0.000139  0.311205  0.040065  0.370487   \n",
       "14797  0.517259  0.107268  0.269504  0.000137  0.060652  0.000137  0.037605   \n",
       "1531   0.086697  0.053272  0.440583  0.000136  0.015236  0.041088  0.001745   \n",
       "40521  0.143867  0.302467  0.225256  0.000086  0.156550  0.021617  0.046474   \n",
       "\n",
       "              7         8         9  \n",
       "19815  0.001222  0.001222  0.001222  \n",
       "48927  0.010007  0.010007  0.010007  \n",
       "39182  0.010007  0.010007  0.010007  \n",
       "47459  0.001855  0.001855  0.001855  \n",
       "26626  0.002442  0.002441  0.002441  \n",
       "...         ...       ...       ...  \n",
       "32592  0.154302  0.000148  0.000148  \n",
       "18594  0.105742  0.019196  0.058265  \n",
       "14797  0.000137  0.000137  0.007165  \n",
       "1531   0.360971  0.000136  0.000136  \n",
       "40521  0.099153  0.004443  0.000086  \n",
       "\n",
       "[50000 rows x 10 columns]"
      ]
     },
     "execution_count": 60,
     "metadata": {},
     "output_type": "execute_result"
    }
   ],
   "source": [
    "models=lda_model.get_document_topics(corpus, minimum_probability=0)\n",
    "rows=[]\n",
    "for i in range(len(models)):\n",
    "    row=[]\n",
    "    for m in models[i]:\n",
    "        row.append(m[1])\n",
    "    rows.append(row)\n",
    "\n",
    "topic_df=pd.DataFrame(rows)\n",
    "topic_df.sort_values(3, ascending=False)"
   ]
  },
  {
   "cell_type": "code",
   "execution_count": 61,
   "metadata": {},
   "outputs": [
    {
     "name": "stdout",
     "output_type": "stream",
     "text": [
      "a hotheaded cop accidentally kills a murder suspect and then covers up the crime\n",
      "but must deal with a guilty conscience while he tries to solve a murder case\n",
      "andrews and tierney are reunited with director preminger in a film noir that is\n",
      "as effective as laura their earlier collaboration andrews is perfectly cast as\n",
      "the earnest cop a good guy caught up in unfortunate circumstances the acting is\n",
      "fine all around including malden as a tough police captain and tully as tierneys\n",
      "protective father the screenplay by hecht a great and prolific screenwriter is\n",
      "taut and suspenseful and preminger creates a great atmosphere\n"
     ]
    }
   ],
   "source": [
    "pd.set_option('display.max_colwidth', None)\n",
    "toprint=df['review'][6540]\n",
    "wrapped_string = textwrap.fill(toprint, width=80)\n",
    "print(wrapped_string)"
   ]
  },
  {
   "cell_type": "markdown",
   "metadata": {},
   "source": [
    "I labeled #2 topic as discussion about life, I would say the comment (0.46970394 #2) does not fall under the topic. "
   ]
  }
 ],
 "metadata": {
  "kernelspec": {
   "display_name": "Python 3",
   "language": "python",
   "name": "python3"
  },
  "language_info": {
   "codemirror_mode": {
    "name": "ipython",
    "version": 3
   },
   "file_extension": ".py",
   "mimetype": "text/x-python",
   "name": "python",
   "nbconvert_exporter": "python",
   "pygments_lexer": "ipython3",
   "version": "3.12.0"
  }
 },
 "nbformat": 4,
 "nbformat_minor": 2
}
